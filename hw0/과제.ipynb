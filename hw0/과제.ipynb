{
 "cells": [
  {
   "cell_type": "code",
   "execution_count": 1,
   "metadata": {},
   "outputs": [],
   "source": [
    "import numpy as np\n",
    "import pandas as pd"
   ]
  },
  {
   "cell_type": "code",
   "execution_count": 2,
   "metadata": {},
   "outputs": [],
   "source": [
    "def vectorize_sumproducts(x,y):\n",
    "    return np.sum(np.array(x)*np.array(y))"
   ]
  },
  {
   "cell_type": "code",
   "execution_count": 4,
   "metadata": {},
   "outputs": [
    {
     "data": {
      "text/plain": [
       "27"
      ]
     },
     "execution_count": 4,
     "metadata": {},
     "output_type": "execute_result"
    }
   ],
   "source": [
    "vectorize_sumproducts([1,2,4], [3,4,4])"
   ]
  },
  {
   "cell_type": "code",
   "execution_count": 24,
   "metadata": {},
   "outputs": [],
   "source": [
    "def vectorize_relu(x):\n",
    "    return np.where(np.array(x)>0, x, 0)"
   ]
  },
  {
   "cell_type": "code",
   "execution_count": 25,
   "metadata": {},
   "outputs": [
    {
     "data": {
      "text/plain": [
       "array([[1, 0, 0, 2],\n",
       "       [2, 0, 3, 4]])"
      ]
     },
     "execution_count": 25,
     "metadata": {},
     "output_type": "execute_result"
    }
   ],
   "source": [
    "vectorize_relu([[1,-4,-3,2],[2,0,3,4]])"
   ]
  },
  {
   "cell_type": "code",
   "execution_count": 26,
   "metadata": {},
   "outputs": [],
   "source": [
    "def vectorize_primerelu(x):\n",
    "    return np.where(np.array(x)>0, 1, 0)"
   ]
  },
  {
   "cell_type": "code",
   "execution_count": 27,
   "metadata": {},
   "outputs": [
    {
     "data": {
      "text/plain": [
       "array([[1, 0, 0, 1],\n",
       "       [1, 0, 1, 1]])"
      ]
     },
     "execution_count": 27,
     "metadata": {},
     "output_type": "execute_result"
    }
   ],
   "source": [
    "vectorize_primerelu([[1,-4,-3,2],[2,0,3,4]])"
   ]
  },
  {
   "cell_type": "code",
   "execution_count": 29,
   "metadata": {},
   "outputs": [],
   "source": [
    "data = [\n",
    "['u0l0', 'u0l1', 'u0l2', 'u0l3', 'u0l4'],\n",
    "['u1l0', 'u1l1', 'u1l2', 'u1l3'],\n",
    "['u2l0', 'u2l1', 'u2l2', 'u2l3', 'u2l4', 'u2l5'],\n",
    "['u3l0', 'u3l1', 'u3l2', 'u3l3', 'u3l4']\n",
    "]"
   ]
  },
  {
   "cell_type": "code",
   "execution_count": 66,
   "metadata": {},
   "outputs": [],
   "source": [
    "def slice_fixed_point(x, a,b):\n",
    "    x = np.array(x)\n",
    "    temp = []\n",
    "    for i in range(x.shape[0]):\n",
    "        temp.append(x[i][b:a+1])\n",
    "    return np.array(temp)"
   ]
  },
  {
   "cell_type": "code",
   "execution_count": 67,
   "metadata": {},
   "outputs": [
    {
     "data": {
      "text/plain": [
       "array([['u0l1', 'u0l2'],\n",
       "       ['u1l1', 'u1l2'],\n",
       "       ['u2l1', 'u2l2'],\n",
       "       ['u3l1', 'u3l2']], dtype='<U4')"
      ]
     },
     "execution_count": 67,
     "metadata": {},
     "output_type": "execute_result"
    }
   ],
   "source": [
    "slice_fixed_point(data, 2, 1)"
   ]
  },
  {
   "cell_type": "code",
   "execution_count": 68,
   "metadata": {},
   "outputs": [],
   "source": [
    "def slice_last_point(x, l):\n",
    "    x = np.array(x)\n",
    "    temp = []\n",
    "    for i in range(x.shape[0]):\n",
    "        temp.append(x[i][-l:])\n",
    "    return np.array(temp)"
   ]
  },
  {
   "cell_type": "code",
   "execution_count": 69,
   "metadata": {},
   "outputs": [
    {
     "data": {
      "text/plain": [
       "array([['u0l2', 'u0l3', 'u0l4'],\n",
       "       ['u1l1', 'u1l2', 'u1l3'],\n",
       "       ['u2l3', 'u2l4', 'u2l5'],\n",
       "       ['u3l2', 'u3l3', 'u3l4']], dtype='<U4')"
      ]
     },
     "execution_count": 69,
     "metadata": {},
     "output_type": "execute_result"
    }
   ],
   "source": [
    "slice_last_point(data, 3)"
   ]
  },
  {
   "cell_type": "code",
   "execution_count": 79,
   "metadata": {},
   "outputs": [],
   "source": [
    "def slice_random_point(x):\n",
    "    x = np.array(x)\n",
    "    temp = []\n",
    "    rand = np.random.randint(0, x.shape[0], x.shape[0])\n",
    "    for i in range(x.shape[0]):\n",
    "        temp.append(x[i][rand[i]:])\n",
    "    return np.array(temp)"
   ]
  },
  {
   "cell_type": "code",
   "execution_count": 80,
   "metadata": {},
   "outputs": [
    {
     "data": {
      "text/plain": [
       "array([list(['u0l1', 'u0l2', 'u0l3', 'u0l4']),\n",
       "       list(['u1l1', 'u1l2', 'u1l3']),\n",
       "       list(['u2l2', 'u2l3', 'u2l4', 'u2l5']), list(['u3l3', 'u3l4'])],\n",
       "      dtype=object)"
      ]
     },
     "execution_count": 80,
     "metadata": {},
     "output_type": "execute_result"
    }
   ],
   "source": [
    "slice_random_point(data)"
   ]
  },
  {
   "cell_type": "code",
   "execution_count": 180,
   "metadata": {},
   "outputs": [],
   "source": [
    "data = [\n",
    "['u0l0', 'u0l1', 'u0l2', 'u0l3', 'u0l4'],\n",
    "['u1l0', 'u1l1', 'u1l2', 'u1l3'],\n",
    "['u2l0', 'u2l1', 'u2l2', 'u2l3', 'u2l4', 'u2l5'],\n",
    "['u3l0', 'u3l1']\n",
    "]"
   ]
  },
  {
   "cell_type": "code",
   "execution_count": 181,
   "metadata": {},
   "outputs": [],
   "source": [
    "def pad_pattern_end(xs):\n",
    "    x = np.copy(np.array(xs))\n",
    "    amax = []\n",
    "    temp = []\n",
    "    for i in range(np.size(x,0)):\n",
    "        amax.append(len(x[i]))\n",
    "    amax = max(amax)\n",
    "    for i in range(np.size(x,0)):\n",
    "        if len(x[i]) == amax:\n",
    "            temp.append(x[i])\n",
    "        else:\n",
    "            while len(x[i]) != amax:\n",
    "                cut = amax - len(x[i])\n",
    "                x[i].extend(list(reversed(x[i]))[:cut])\n",
    "            temp.append(x[i])\n",
    "    return np.array(temp)"
   ]
  },
  {
   "cell_type": "code",
   "execution_count": 182,
   "metadata": {},
   "outputs": [
    {
     "data": {
      "text/plain": [
       "array([['u0l0', 'u0l1', 'u0l2', 'u0l3', 'u0l4', 'u0l4'],\n",
       "       ['u1l0', 'u1l1', 'u1l2', 'u1l3', 'u1l3', 'u1l2'],\n",
       "       ['u2l0', 'u2l1', 'u2l2', 'u2l3', 'u2l4', 'u2l5'],\n",
       "       ['u3l0', 'u3l1', 'u3l1', 'u3l0', 'u3l0', 'u3l1']], dtype='<U4')"
      ]
     },
     "execution_count": 182,
     "metadata": {},
     "output_type": "execute_result"
    }
   ],
   "source": [
    "pad_pattern_end(data)"
   ]
  },
  {
   "cell_type": "code",
   "execution_count": 198,
   "metadata": {},
   "outputs": [],
   "source": [
    "data = [\n",
    "['u0l0', 'u0l1', 'u0l2', 'u0l3', 'u0l4'],\n",
    "['u1l0', 'u1l1', 'u1l2', 'u1l3'],\n",
    "['u2l0', 'u2l1', 'u2l2', 'u2l3', 'u2l4', 'u2l5'],\n",
    "['u3l0', 'u3l1']\n",
    "]"
   ]
  },
  {
   "cell_type": "code",
   "execution_count": 199,
   "metadata": {},
   "outputs": [],
   "source": [
    "def pad_constant_central(xs):\n",
    "    x = np.copy(np.array(xs))\n",
    "    amax = []\n",
    "    temp = []\n",
    "    for i in range(np.size(x,0)):\n",
    "        amax.append(len(x[i]))\n",
    "    amax = max(amax)\n",
    "    for i in range(np.size(x,0)):\n",
    "        if len(x[i]) == amax:\n",
    "            temp.append(x[i])\n",
    "        else:\n",
    "            st = ['cval'] * amax\n",
    "            st[int((amax - len(x[i]))/2):int((amax - len(x[i]))/2)+len(x[i])] = x[i]\n",
    "            temp.append(st)\n",
    "    return np.array(temp)"
   ]
  },
  {
   "cell_type": "code",
   "execution_count": 200,
   "metadata": {},
   "outputs": [
    {
     "data": {
      "text/plain": [
       "array([['u0l0', 'u0l1', 'u0l2', 'u0l3', 'u0l4', 'cval'],\n",
       "       ['cval', 'u1l0', 'u1l1', 'u1l2', 'u1l3', 'cval'],\n",
       "       ['u2l0', 'u2l1', 'u2l2', 'u2l3', 'u2l4', 'u2l5'],\n",
       "       ['cval', 'cval', 'u3l0', 'u3l1', 'cval', 'cval']], dtype='<U4')"
      ]
     },
     "execution_count": 200,
     "metadata": {},
     "output_type": "execute_result"
    }
   ],
   "source": [
    "pad_constant_central(data)"
   ]
  }
 ],
 "metadata": {
  "kernelspec": {
   "display_name": "Python 3",
   "language": "python",
   "name": "python3"
  },
  "language_info": {
   "codemirror_mode": {
    "name": "ipython",
    "version": 3
   },
   "file_extension": ".py",
   "mimetype": "text/x-python",
   "name": "python",
   "nbconvert_exporter": "python",
   "pygments_lexer": "ipython3",
   "version": "3.7.1"
  }
 },
 "nbformat": 4,
 "nbformat_minor": 2
}
